{
 "cells": [
  {
   "cell_type": "markdown",
   "metadata": {},
   "source": [
    "#### Fit a Hierarchical Clustering to the dataset with 5 clusters. Use the linkage method to be \"ward\" and distance as euclidean. Plot a dendrogram for the same."
   ]
  },
  {
   "cell_type": "code",
   "execution_count": 1,
   "metadata": {},
   "outputs": [],
   "source": [
    "#import all the required libraries\n",
    "import pandas as pd\n",
    "import numpy as np\n",
    "import matplotlib.pyplot as plt"
   ]
  },
  {
   "cell_type": "code",
   "execution_count": 2,
   "metadata": {},
   "outputs": [
    {
     "data": {
      "text/plain": [
       "<bound method DataFrame.info of      CustomerID   Genre  Age  Annual Income (k$)  Spending Score (1-100)\n",
       "0             1    Male   19                  15                      39\n",
       "1             2    Male   21                  15                      81\n",
       "2             3  Female   20                  16                       6\n",
       "3             4  Female   23                  16                      77\n",
       "4             5  Female   31                  17                      40\n",
       "5             6  Female   22                  17                      76\n",
       "6             7  Female   35                  18                       6\n",
       "7             8  Female   23                  18                      94\n",
       "8             9    Male   64                  19                       3\n",
       "9            10  Female   30                  19                      72\n",
       "10           11    Male   67                  19                      14\n",
       "11           12  Female   35                  19                      99\n",
       "12           13  Female   58                  20                      15\n",
       "13           14  Female   24                  20                      77\n",
       "14           15    Male   37                  20                      13\n",
       "15           16    Male   22                  20                      79\n",
       "16           17  Female   35                  21                      35\n",
       "17           18    Male   20                  21                      66\n",
       "18           19    Male   52                  23                      29\n",
       "19           20  Female   35                  23                      98\n",
       "20           21    Male   35                  24                      35\n",
       "21           22    Male   25                  24                      73\n",
       "22           23  Female   46                  25                       5\n",
       "23           24    Male   31                  25                      73\n",
       "24           25  Female   54                  28                      14\n",
       "25           26    Male   29                  28                      82\n",
       "26           27  Female   45                  28                      32\n",
       "27           28    Male   35                  28                      61\n",
       "28           29  Female   40                  29                      31\n",
       "29           30  Female   23                  29                      87\n",
       "..          ...     ...  ...                 ...                     ...\n",
       "170         171    Male   40                  87                      13\n",
       "171         172    Male   28                  87                      75\n",
       "172         173    Male   36                  87                      10\n",
       "173         174    Male   36                  87                      92\n",
       "174         175  Female   52                  88                      13\n",
       "175         176  Female   30                  88                      86\n",
       "176         177    Male   58                  88                      15\n",
       "177         178    Male   27                  88                      69\n",
       "178         179    Male   59                  93                      14\n",
       "179         180    Male   35                  93                      90\n",
       "180         181  Female   37                  97                      32\n",
       "181         182  Female   32                  97                      86\n",
       "182         183    Male   46                  98                      15\n",
       "183         184  Female   29                  98                      88\n",
       "184         185  Female   41                  99                      39\n",
       "185         186    Male   30                  99                      97\n",
       "186         187  Female   54                 101                      24\n",
       "187         188    Male   28                 101                      68\n",
       "188         189  Female   41                 103                      17\n",
       "189         190  Female   36                 103                      85\n",
       "190         191  Female   34                 103                      23\n",
       "191         192  Female   32                 103                      69\n",
       "192         193    Male   33                 113                       8\n",
       "193         194  Female   38                 113                      91\n",
       "194         195  Female   47                 120                      16\n",
       "195         196  Female   35                 120                      79\n",
       "196         197  Female   45                 126                      28\n",
       "197         198    Male   32                 126                      74\n",
       "198         199    Male   32                 137                      18\n",
       "199         200    Male   30                 137                      83\n",
       "\n",
       "[200 rows x 5 columns]>"
      ]
     },
     "execution_count": 2,
     "metadata": {},
     "output_type": "execute_result"
    }
   ],
   "source": [
    "# import the data file\n",
    "data=pd.read_csv('data.csv')\n",
    "data.info"
   ]
  },
  {
   "cell_type": "code",
   "execution_count": 3,
   "metadata": {},
   "outputs": [
    {
     "data": {
      "text/html": [
       "<div>\n",
       "<style scoped>\n",
       "    .dataframe tbody tr th:only-of-type {\n",
       "        vertical-align: middle;\n",
       "    }\n",
       "\n",
       "    .dataframe tbody tr th {\n",
       "        vertical-align: top;\n",
       "    }\n",
       "\n",
       "    .dataframe thead th {\n",
       "        text-align: right;\n",
       "    }\n",
       "</style>\n",
       "<table border=\"1\" class=\"dataframe\">\n",
       "  <thead>\n",
       "    <tr style=\"text-align: right;\">\n",
       "      <th></th>\n",
       "      <th>CustomerID</th>\n",
       "      <th>Genre</th>\n",
       "      <th>Age</th>\n",
       "      <th>Annual Income (k$)</th>\n",
       "      <th>Spending Score (1-100)</th>\n",
       "    </tr>\n",
       "  </thead>\n",
       "  <tbody>\n",
       "    <tr>\n",
       "      <th>0</th>\n",
       "      <td>1</td>\n",
       "      <td>Male</td>\n",
       "      <td>19</td>\n",
       "      <td>15</td>\n",
       "      <td>39</td>\n",
       "    </tr>\n",
       "    <tr>\n",
       "      <th>1</th>\n",
       "      <td>2</td>\n",
       "      <td>Male</td>\n",
       "      <td>21</td>\n",
       "      <td>15</td>\n",
       "      <td>81</td>\n",
       "    </tr>\n",
       "    <tr>\n",
       "      <th>2</th>\n",
       "      <td>3</td>\n",
       "      <td>Female</td>\n",
       "      <td>20</td>\n",
       "      <td>16</td>\n",
       "      <td>6</td>\n",
       "    </tr>\n",
       "    <tr>\n",
       "      <th>3</th>\n",
       "      <td>4</td>\n",
       "      <td>Female</td>\n",
       "      <td>23</td>\n",
       "      <td>16</td>\n",
       "      <td>77</td>\n",
       "    </tr>\n",
       "    <tr>\n",
       "      <th>4</th>\n",
       "      <td>5</td>\n",
       "      <td>Female</td>\n",
       "      <td>31</td>\n",
       "      <td>17</td>\n",
       "      <td>40</td>\n",
       "    </tr>\n",
       "  </tbody>\n",
       "</table>\n",
       "</div>"
      ],
      "text/plain": [
       "   CustomerID   Genre  Age  Annual Income (k$)  Spending Score (1-100)\n",
       "0           1    Male   19                  15                      39\n",
       "1           2    Male   21                  15                      81\n",
       "2           3  Female   20                  16                       6\n",
       "3           4  Female   23                  16                      77\n",
       "4           5  Female   31                  17                      40"
      ]
     },
     "execution_count": 3,
     "metadata": {},
     "output_type": "execute_result"
    }
   ],
   "source": [
    "data.head()"
   ]
  },
  {
   "cell_type": "code",
   "execution_count": 4,
   "metadata": {},
   "outputs": [],
   "source": [
    "#Converting Object to Str\n",
    "data['Genre'].replace(['Male','Female'],[0,1],inplace=True)"
   ]
  },
  {
   "cell_type": "code",
   "execution_count": 5,
   "metadata": {},
   "outputs": [
    {
     "data": {
      "text/html": [
       "<div>\n",
       "<style scoped>\n",
       "    .dataframe tbody tr th:only-of-type {\n",
       "        vertical-align: middle;\n",
       "    }\n",
       "\n",
       "    .dataframe tbody tr th {\n",
       "        vertical-align: top;\n",
       "    }\n",
       "\n",
       "    .dataframe thead th {\n",
       "        text-align: right;\n",
       "    }\n",
       "</style>\n",
       "<table border=\"1\" class=\"dataframe\">\n",
       "  <thead>\n",
       "    <tr style=\"text-align: right;\">\n",
       "      <th></th>\n",
       "      <th>CustomerID</th>\n",
       "      <th>Genre</th>\n",
       "      <th>Age</th>\n",
       "      <th>Annual Income (k$)</th>\n",
       "      <th>Spending Score (1-100)</th>\n",
       "    </tr>\n",
       "  </thead>\n",
       "  <tbody>\n",
       "    <tr>\n",
       "      <th>0</th>\n",
       "      <td>0.021780</td>\n",
       "      <td>0.000000</td>\n",
       "      <td>0.413826</td>\n",
       "      <td>0.326705</td>\n",
       "      <td>0.849433</td>\n",
       "    </tr>\n",
       "    <tr>\n",
       "      <th>1</th>\n",
       "      <td>0.023520</td>\n",
       "      <td>0.000000</td>\n",
       "      <td>0.246956</td>\n",
       "      <td>0.176397</td>\n",
       "      <td>0.952546</td>\n",
       "    </tr>\n",
       "    <tr>\n",
       "      <th>2</th>\n",
       "      <td>0.113228</td>\n",
       "      <td>0.037743</td>\n",
       "      <td>0.754851</td>\n",
       "      <td>0.603881</td>\n",
       "      <td>0.226455</td>\n",
       "    </tr>\n",
       "    <tr>\n",
       "      <th>3</th>\n",
       "      <td>0.048755</td>\n",
       "      <td>0.012189</td>\n",
       "      <td>0.280342</td>\n",
       "      <td>0.195020</td>\n",
       "      <td>0.938536</td>\n",
       "    </tr>\n",
       "    <tr>\n",
       "      <th>4</th>\n",
       "      <td>0.093234</td>\n",
       "      <td>0.018647</td>\n",
       "      <td>0.578052</td>\n",
       "      <td>0.316997</td>\n",
       "      <td>0.745874</td>\n",
       "    </tr>\n",
       "  </tbody>\n",
       "</table>\n",
       "</div>"
      ],
      "text/plain": [
       "   CustomerID     Genre       Age  Annual Income (k$)  Spending Score (1-100)\n",
       "0    0.021780  0.000000  0.413826            0.326705                0.849433\n",
       "1    0.023520  0.000000  0.246956            0.176397                0.952546\n",
       "2    0.113228  0.037743  0.754851            0.603881                0.226455\n",
       "3    0.048755  0.012189  0.280342            0.195020                0.938536\n",
       "4    0.093234  0.018647  0.578052            0.316997                0.745874"
      ]
     },
     "execution_count": 5,
     "metadata": {},
     "output_type": "execute_result"
    }
   ],
   "source": [
    "#Pre-Processing\n",
    "from sklearn.preprocessing import normalize\n",
    "data_norm=normalize(data)\n",
    "data_norm=pd.DataFrame(data_norm,columns=data.columns)\n",
    "data_norm.head()"
   ]
  },
  {
   "cell_type": "code",
   "execution_count": 6,
   "metadata": {},
   "outputs": [
    {
     "data": {
      "image/png": "[encoded data removed]",
      "text/plain": [
       "<Figure size 720x1080 with 1 Axes>"
      ]
     },
     "metadata": {
      "needs_background": "light"
     },
     "output_type": "display_data"
    }
   ],
   "source": [
    "# Plot Dendrograms\n",
    "import scipy.cluster.hierarchy as shc\n",
    "plt.figure(figsize=(10,15))\n",
    "plt.title(\"Dendrograms\")\n",
    "dend = shc.dendrogram(shc.linkage(data_norm,method='ward'))"
   ]
  },
  {
   "cell_type": "code",
   "execution_count": 7,
   "metadata": {},
   "outputs": [
    {
     "data": {
      "text/plain": [
       "array([2, 2, 4, 2, 2, 2, 4, 2, 4, 2, 4, 2, 4, 2, 4, 2, 1, 2, 1, 2, 1, 2,\n",
       "       4, 2, 4, 2, 1, 2, 1, 2, 4, 2, 4, 2, 4, 2, 1, 2, 1, 2, 1, 2, 1, 0,\n",
       "       1, 0, 1, 0, 0, 0, 1, 0, 0, 1, 1, 1, 1, 1, 0, 1, 1, 0, 1, 1, 1, 0,\n",
       "       0, 1, 0, 0, 1, 0, 0, 1, 0, 0, 0, 0, 0, 0, 0, 0, 0, 0, 0, 0, 0, 0,\n",
       "       0, 0, 0, 0, 0, 0, 0, 0, 0, 0, 0, 0, 0, 0, 0, 0, 0, 0, 0, 0, 0, 0,\n",
       "       0, 0, 0, 0, 0, 0, 0, 0, 0, 0, 0, 0, 0, 0, 3, 0, 3, 0, 3, 0, 3, 0,\n",
       "       3, 0, 3, 0, 3, 0, 3, 0, 3, 0, 3, 0, 3, 0, 3, 0, 3, 0, 3, 0, 3, 0,\n",
       "       3, 0, 3, 0, 3, 0, 3, 0, 3, 0, 3, 0, 3, 0, 3, 0, 3, 0, 3, 0, 3, 0,\n",
       "       3, 0, 3, 0, 3, 0, 3, 0, 3, 0, 3, 0, 3, 0, 3, 0, 3, 0, 3, 0, 3, 0,\n",
       "       3, 0], dtype=int64)"
      ]
     },
     "execution_count": 7,
     "metadata": {},
     "output_type": "execute_result"
    }
   ],
   "source": [
    "# Clustering using Euclidean and linkage Ward\n",
    "from sklearn.cluster import AgglomerativeClustering as AC\n",
    "cluster = AC(n_clusters=5,affinity='euclidean',linkage='ward')\n",
    "cluster.fit_predict(data_norm)"
   ]
  },
  {
   "cell_type": "code",
   "execution_count": 10,
   "metadata": {},
   "outputs": [
    {
     "data": {
      "text/plain": [
       "<matplotlib.collections.PathCollection at 0x23a3d350f98>"
      ]
     },
     "execution_count": 10,
     "metadata": {},
     "output_type": "execute_result"
    },
    {
     "data": {
      "image/png": "[encoded data removed]",
      "text/plain": [
       "<Figure size 720x504 with 1 Axes>"
      ]
     },
     "metadata": {
      "needs_background": "light"
     },
     "output_type": "display_data"
    }
   ],
   "source": [
    "# Scatter plot Income Vs Spending\n",
    "plt.figure(figsize=(10, 7))  \n",
    "plt.scatter(data_norm['Annual Income (k$)'], data_norm['Spending Score (1-100)'], c=cluster.labels_)"
   ]
  },
  {
   "cell_type": "code",
   "execution_count": null,
   "metadata": {},
   "outputs": [],
   "source": []
  }
 ],
 "metadata": {
  "kernelspec": {
   "display_name": "Python 3",
   "language": "python",
   "name": "python3"
  },
  "language_info": {
   "codemirror_mode": {
    "name": "ipython",
    "version": 3
   },
   "file_extension": ".py",
   "mimetype": "text/x-python",
   "name": "python",
   "nbconvert_exporter": "python",
   "pygments_lexer": "ipython3",
   "version": "3.7.3"
  }
 },
 "nbformat": 4,
 "nbformat_minor": 2
}
