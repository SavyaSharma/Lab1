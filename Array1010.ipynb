{
 "cells": [
  {
   "cell_type": "code",
   "execution_count": 75,
   "metadata": {},
   "outputs": [
    {
     "name": "stdout",
     "output_type": "stream",
     "text": [
      "Please input no of rows between 5 to 20 :  8\n",
      "Please input no of coloumns between 5 to 20 : 10\n"
     ]
    },
    {
     "data": {
      "text/plain": [
       "array([[0., 0., 0., 0., 1., 1., 0., 0., 0., 0.],\n",
       "       [0., 0., 0., 0., 1., 1., 0., 0., 0., 0.],\n",
       "       [0., 0., 0., 0., 1., 1., 0., 0., 0., 0.],\n",
       "       [1., 1., 1., 1., 1., 1., 1., 1., 1., 1.],\n",
       "       [1., 1., 1., 1., 1., 1., 1., 1., 1., 1.],\n",
       "       [0., 0., 0., 0., 1., 1., 0., 0., 0., 0.],\n",
       "       [0., 0., 0., 0., 1., 1., 0., 0., 0., 0.],\n",
       "       [0., 0., 0., 0., 1., 1., 0., 0., 0., 0.]])"
      ]
     },
     "execution_count": 75,
     "metadata": {},
     "output_type": "execute_result"
    }
   ],
   "source": [
    "import numpy as np\n",
    "a= int(input(\"Please input no of rows between 5 to 20 :  \"))\n",
    "b=int(input(\"Please input no of coloumns between 5 to 20 : \"))\n",
    "array = np.zeros((a,b))\n",
    "array\n",
    "\n",
    "c=a/2+0.5\n",
    "d=b/2+0.5\n",
    "if a%2==0 and b%2==0:\n",
    "    array[0:a,(int(b/2)-1):(int(b/2)+1)]=1\n",
    "    array[int(a/2)-1:(int(a/2)+1),0:b]=1\n",
    "#elif a%2==1 and b%2==1:\n",
    "else :\n",
    "    array[0:a,int(b/2+0.5):(b/2-0.5)]=1\n",
    "    array[(a/2+0.5):(a/2-0.5),0:b]=1\n",
    "    \n",
    "array"
   ]
  },
  {
   "cell_type": "code",
   "execution_count": 85,
   "metadata": {},
   "outputs": [
    {
     "name": "stdout",
     "output_type": "stream",
     "text": [
      "Please input no of rows between 5 to 20 :  10\n",
      "Please input no of coloumns between 5 to 20 : 9\n",
      "5 5\n"
     ]
    },
    {
     "data": {
      "text/plain": [
       "array([[0., 0., 0., 0., 1., 0., 0., 0., 0.],\n",
       "       [0., 0., 0., 0., 1., 0., 0., 0., 0.],\n",
       "       [0., 0., 0., 0., 1., 0., 0., 0., 0.],\n",
       "       [0., 0., 0., 0., 1., 0., 0., 0., 0.],\n",
       "       [1., 1., 1., 1., 1., 1., 1., 1., 1.],\n",
       "       [0., 0., 0., 0., 1., 0., 0., 0., 0.],\n",
       "       [0., 0., 0., 0., 1., 0., 0., 0., 0.],\n",
       "       [0., 0., 0., 0., 1., 0., 0., 0., 0.],\n",
       "       [0., 0., 0., 0., 1., 0., 0., 0., 0.],\n",
       "       [0., 0., 0., 0., 1., 0., 0., 0., 0.]])"
      ]
     },
     "execution_count": 85,
     "metadata": {},
     "output_type": "execute_result"
    }
   ],
   "source": [
    "import numpy as np\n",
    "a= int(input(\"Please input no of rows between 5 to 20 :  \"))\n",
    "b=int(input(\"Please input no of coloumns between 5 to 20 : \"))\n",
    "array = np.zeros((a,b))\n",
    "array\n",
    "\n",
    "c=int(a/2+0.5)\n",
    "d=int(b/2+0.5)\n",
    "print (c,d)\n",
    "if a%2==0 and b%2==0:\n",
    "    array[0:a,int((b/2)-1):int((b/2)+1)]=1\n",
    "    array[int((a/2)-1):int((a/2)+1),0:b]=1\n",
    "elif a%2==1 and b%2==0:\n",
    "    array[int((a/2)-1):int((a/2)+1),0:b]=1\n",
    "    array[0:a,d-1:d]=1\n",
    "elif a%2==0 and b%2==0:\n",
    "    array[0:a,int((b/2)-1):int((b/2)+1)]=1\n",
    "    array[c-1:c,0:b]=1\n",
    "else :\n",
    "    array[0:a,d-1:d]=1\n",
    "    array[c-1:c,0:b]=1\n",
    "    \n",
    "array"
   ]
  },
  {
   "cell_type": "code",
   "execution_count": null,
   "metadata": {},
   "outputs": [],
   "source": []
  },
  {
   "cell_type": "code",
   "execution_count": null,
   "metadata": {},
   "outputs": [],
   "source": []
  }
 ],
 "metadata": {
  "kernelspec": {
   "display_name": "Python 3",
   "language": "python",
   "name": "python3"
  },
  "language_info": {
   "codemirror_mode": {
    "name": "ipython",
    "version": 3
   },
   "file_extension": ".py",
   "mimetype": "text/x-python",
   "name": "python",
   "nbconvert_exporter": "python",
   "pygments_lexer": "ipython3",
   "version": "3.7.3"
  }
 },
 "nbformat": 4,
 "nbformat_minor": 2
}
